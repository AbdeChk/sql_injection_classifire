{
 "cells": [
  {
   "cell_type": "code",
   "execution_count": null,
   "id": "6368fde9",
   "metadata": {},
   "outputs": [
    {
     "name": "stderr",
     "output_type": "stream",
     "text": [
      "C:\\Users\\xocek\\anaconda3\\lib\\site-packages\\sklearn\\base.py:299: UserWarning: Trying to unpickle estimator CountVectorizer from version 1.2.2 when using version 1.2.1. This might lead to breaking code or invalid results. Use at your own risk. For more info please refer to:\n",
      "https://scikit-learn.org/stable/model_persistence.html#security-maintainability-limitations\n",
      "  warnings.warn(\n",
      "C:\\Users\\xocek\\anaconda3\\lib\\site-packages\\sklearn\\base.py:299: UserWarning: Trying to unpickle estimator LogisticRegression from version 1.2.2 when using version 1.2.1. This might lead to breaking code or invalid results. Use at your own risk. For more info please refer to:\n",
      "https://scikit-learn.org/stable/model_persistence.html#security-maintainability-limitations\n",
      "  warnings.warn(\n",
      "C:\\Users\\xocek\\anaconda3\\lib\\site-packages\\sklearn\\base.py:299: UserWarning: Trying to unpickle estimator Pipeline from version 1.2.2 when using version 1.2.1. This might lead to breaking code or invalid results. Use at your own risk. For more info please refer to:\n",
      "https://scikit-learn.org/stable/model_persistence.html#security-maintainability-limitations\n",
      "  warnings.warn(\n"
     ]
    }
   ],
   "source": [
    "import streamlit as st\n",
    "import joblib\n",
    "import pickle\n",
    "\n",
    "model =  joblib.load('sql_injection_pipeline.pkl')\n",
    "\n",
    "st.title('SQL Injection Classifier')\n",
    "\n",
    "query = st.text_input('Enter a query')\n",
    "\n",
    "# Make a prediction when the user clicks a button\n",
    "if st.button('Predict'):\n",
    "    \n",
    "    preprocessed_query = preprocess(query)\n",
    "\n",
    "    prediction = model.predict([preprocessed_query])[0]\n",
    "\n",
    "    # Display the prediction\n",
    "    if prediction == 1:\n",
    "        st.write('The query is classified as SQL injection')\n",
    "    else:\n",
    "        st.write('The query is classified as legitimate')\n"
   ]
  },
  {
   "cell_type": "code",
   "execution_count": null,
   "id": "fe08dc21",
   "metadata": {},
   "outputs": [],
   "source": []
  }
 ],
 "metadata": {
  "kernelspec": {
   "display_name": "Python 3 (ipykernel)",
   "language": "python",
   "name": "python3"
  },
  "language_info": {
   "codemirror_mode": {
    "name": "ipython",
    "version": 3
   },
   "file_extension": ".py",
   "mimetype": "text/x-python",
   "name": "python",
   "nbconvert_exporter": "python",
   "pygments_lexer": "ipython3",
   "version": "3.10.9"
  }
 },
 "nbformat": 4,
 "nbformat_minor": 5
}
